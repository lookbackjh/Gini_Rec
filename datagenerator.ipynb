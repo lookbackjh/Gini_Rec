{
 "cells": [
  {
   "cell_type": "code",
   "execution_count": 2,
   "metadata": {},
   "outputs": [],
   "source": [
    "import pandas as pd\n",
    "df = pd.read_pickle('order_info_frequency.pickle')\n",
    "ordercount=[]\n",
    "for user in df['AUTH_CUSTOMER_ID'].unique():\n",
    "    # count the number of orders for each user, select top 1000 user\n",
    "    ordercount.append([user, len(df[df['AUTH_CUSTOMER_ID']==user])])\n",
    "\n",
    "ordercount\n",
    "#select top 1000 user\n",
    "ordercount.sort(key=lambda x: x[1], reverse=True)\n",
    "topuser=[]\n",
    "for i in range(1000):\n",
    "    topuser.append(ordercount[i][0])\n",
    "df=df[df['AUTH_CUSTOMER_ID'].isin(topuser)]\n",
    "product=[]\n",
    "for user in df['PRODUCT_CODE'].unique():\n",
    "    # count the number of orders for each user, select top 1000 user\n",
    "    product.append([user, len(df[df['PRODUCT_CODE']==user])])\n",
    "\n",
    "product\n",
    "#select top 1000 product\n",
    "product.sort(key=lambda x: x[1], reverse=True)\n",
    "top500product=[]\n",
    "for i in range(5000):\n",
    "    top500product.append(product[i][0])\n",
    "df=df[df['PRODUCT_CODE'].isin(top500product)]   \n",
    "df.to_pickle('order_info_frequency_1000.pickle')"
   ]
  },
  {
   "cell_type": "code",
   "execution_count": 6,
   "metadata": {},
   "outputs": [],
   "source": [
    "\n",
    "#group by auth customerid and sort by order date\n",
    "# df=df.sort_values(by=['AUTH_CUSTOMER_ID','ORDER_DATE'])\n",
    "# df.groupby('AUTH_CUSTOMER_ID',group_keys=True).apply(lambda x: x)\n",
    "# #select half of the data for each user\n",
    "# df_train=df.groupby('AUTH_CUSTOMER_ID',group_keys=True).apply(lambda x: x.iloc[0:int(len(x)*0.7)])\n",
    "# df_test=df.groupby('AUTH_CUSTOMER_ID',group_keys=True).apply(lambda x: x.iloc[int(len(x)*0.7):len(x)])\n",
    "# #disable groupby\n",
    "# df_train=df_train.reset_index(drop=True)\n",
    "# df_test=df_test.reset_index(drop=True)\n",
    "# df_train.to_pickle('order_info_frequency_1000_train.pickle')\n",
    "# df_test.to_pickle('order_info_frequency_1000_test.pickle')"
   ]
  }
 ],
 "metadata": {
  "kernelspec": {
   "display_name": ".venv",
   "language": "python",
   "name": "python3"
  },
  "language_info": {
   "codemirror_mode": {
    "name": "ipython",
    "version": 3
   },
   "file_extension": ".py",
   "mimetype": "text/x-python",
   "name": "python",
   "nbconvert_exporter": "python",
   "pygments_lexer": "ipython3",
   "version": "3.10.12"
  },
  "orig_nbformat": 4
 },
 "nbformat": 4,
 "nbformat_minor": 2
}
